{
 "cells": [
  {
   "cell_type": "markdown",
   "metadata": {},
   "source": [
    "# Tourmaline Python Notebook"
   ]
  },
  {
   "cell_type": "markdown",
   "metadata": {},
   "source": [
    "This Python notebook will work \"out of the box\" with the test data included with Tourmaline. To run with your own data, just make sure to change the variables in the section **Define variables** to match your metadata and desired parameters."
   ]
  },
  {
   "cell_type": "markdown",
   "metadata": {},
   "source": [
    "## Install dependencies (first time only)"
   ]
  },
  {
   "cell_type": "markdown",
   "metadata": {},
   "source": [
    "Install QIIME 2 Jupyter extension with:"
   ]
  },
  {
   "cell_type": "raw",
   "metadata": {},
   "source": [
    "%%bash\n",
    "jupyter serverextension enable --py qiime2 --sys-prefix"
   ]
  },
  {
   "cell_type": "markdown",
   "metadata": {},
   "source": [
    "then restart your server.\n",
    "\n",
    "(Interactive output not available on static notebook viewer services like nbviewer.)"
   ]
  },
  {
   "cell_type": "markdown",
   "metadata": {},
   "source": [
    "## Import packages"
   ]
  },
  {
   "cell_type": "code",
   "execution_count": 1,
   "metadata": {},
   "outputs": [],
   "source": [
    "from qiime2 import Artifact\n",
    "from qiime2 import Visualization\n",
    "import pandas as pd\n",
    "import matplotlib.pyplot as plt\n",
    "import seaborn as sns\n",
    "%matplotlib inline"
   ]
  },
  {
   "cell_type": "markdown",
   "metadata": {},
   "source": [
    "## Define variables"
   ]
  },
  {
   "cell_type": "code",
   "execution_count": 2,
   "metadata": {},
   "outputs": [],
   "source": [
    "method = 'dada2-pe'\n",
    "filtering = 'unfiltered'\n",
    "adiv_metric = 'observed_features'\n",
    "bdiv_metric = 'unweighted_unifrac'\n",
    "factor1 = 'filter_size'\n",
    "factor2 = 'region'"
   ]
  },
  {
   "cell_type": "markdown",
   "metadata": {},
   "source": [
    "## Set file paths"
   ]
  },
  {
   "cell_type": "code",
   "execution_count": 3,
   "metadata": {},
   "outputs": [],
   "source": [
    "inputs = {\n",
    "  'metadata': '../00-data/metadata.tsv',\n",
    "  'taxonomy': '../02-output-%s-%s/01-taxonomy/taxonomy.qza' % (method, filtering),\n",
    "  'repseq_prop': '../02-output-%s-%s/02-alignment-tree/repseqs_properties.tsv' % (method, filtering),\n",
    "  'table': '../02-output-%s-%s/00-table-repseqs/table.qza' % (method, filtering),\n",
    "  'adiv_vector': '../02-output-%s-%s/03-alpha-diversity/%s_vector.qza' % (method, filtering, adiv_metric),\n",
    "  'repseqs_viz': '../02-output-%s-%s/00-table-repseqs/repseqs.qzv' % (method, filtering),\n",
    "  'table_viz': '../02-output-%s-%s/00-table-repseqs/table.qzv' % (method, filtering),\n",
    "  'taxonomy_viz': '../02-output-%s-%s/01-taxonomy/taxonomy.qzv' % (method, filtering),\n",
    "  'taxa_bar': '../02-output-%s-%s/01-taxonomy/taxa_barplot.qzv' % (method, filtering),\n",
    "  'rooted_tree': '../02-output-%s-%s/02-alignment-tree/rooted_tree.qzv' % (method, filtering),\n",
    "  'adiv_grpsig': '../02-output-%s-%s/03-alpha-diversity/%s_group_significance.qzv' % (method, filtering, adiv_metric),\n",
    "  'bdiv_emperor': '../02-output-%s-%s/04-beta-diversity/%s_emperor.qzv' % (method, filtering, bdiv_metric),\n",
    "  'bdiv_grpsig': '../02-output-%s-%s/04-beta-diversity/%s_group_significance.qzv' % (method, filtering, bdiv_metric)\n",
    "}"
   ]
  },
  {
   "cell_type": "markdown",
   "metadata": {},
   "source": [
    "## Read and view DataFrames"
   ]
  },
  {
   "cell_type": "markdown",
   "metadata": {},
   "source": [
    "### Metadata"
   ]
  },
  {
   "cell_type": "code",
   "execution_count": 4,
   "metadata": {
    "scrolled": true
   },
   "outputs": [
    {
     "data": {
      "text/html": [
       "<div>\n",
       "<style scoped>\n",
       "    .dataframe tbody tr th:only-of-type {\n",
       "        vertical-align: middle;\n",
       "    }\n",
       "\n",
       "    .dataframe tbody tr th {\n",
       "        vertical-align: top;\n",
       "    }\n",
       "\n",
       "    .dataframe thead th {\n",
       "        text-align: right;\n",
       "    }\n",
       "</style>\n",
       "<table border=\"1\" class=\"dataframe\">\n",
       "  <thead>\n",
       "    <tr style=\"text-align: right;\">\n",
       "      <th></th>\n",
       "      <th>sample_name_water</th>\n",
       "      <th>description</th>\n",
       "      <th>control_status</th>\n",
       "      <th>sample_pairing</th>\n",
       "      <th>sample_pairs</th>\n",
       "      <th>esp_storage_carousel</th>\n",
       "      <th>sample_station</th>\n",
       "      <th>auv_latitude_deg</th>\n",
       "      <th>auv_longitude_deg</th>\n",
       "      <th>archive_bottom</th>\n",
       "      <th>...</th>\n",
       "      <th>target_gene</th>\n",
       "      <th>target_subfragment</th>\n",
       "      <th>pcr_primers</th>\n",
       "      <th>pcr_primer_names</th>\n",
       "      <th>seq_meth</th>\n",
       "      <th>seq_platform</th>\n",
       "      <th>seq_model</th>\n",
       "      <th>seq_chemistry</th>\n",
       "      <th>run_center</th>\n",
       "      <th>run_date</th>\n",
       "    </tr>\n",
       "    <tr>\n",
       "      <th>sample_name</th>\n",
       "      <th></th>\n",
       "      <th></th>\n",
       "      <th></th>\n",
       "      <th></th>\n",
       "      <th></th>\n",
       "      <th></th>\n",
       "      <th></th>\n",
       "      <th></th>\n",
       "      <th></th>\n",
       "      <th></th>\n",
       "      <th></th>\n",
       "      <th></th>\n",
       "      <th></th>\n",
       "      <th></th>\n",
       "      <th></th>\n",
       "      <th></th>\n",
       "      <th></th>\n",
       "      <th></th>\n",
       "      <th></th>\n",
       "      <th></th>\n",
       "      <th></th>\n",
       "    </tr>\n",
       "  </thead>\n",
       "  <tbody>\n",
       "    <tr>\n",
       "      <th>SC05.22</th>\n",
       "      <td>SC05</td>\n",
       "      <td>Lake Erie sample</td>\n",
       "      <td>Lake Erie sample</td>\n",
       "      <td>paired with SC07, SC06</td>\n",
       "      <td>15</td>\n",
       "      <td>SC05</td>\n",
       "      <td>Field 53-spare</td>\n",
       "      <td>41.703431</td>\n",
       "      <td>-83.070777</td>\n",
       "      <td>158</td>\n",
       "      <td>...</td>\n",
       "      <td>16S rRNA</td>\n",
       "      <td>V4</td>\n",
       "      <td>FWD:GTGYCAGCMGCCGCGGTAA; REV:GGACTACNVGGGTWTCTAAT</td>\n",
       "      <td>FWD:EMP-16S-515F-Parada; REV:EMP-16S-806R-Apprill</td>\n",
       "      <td>Illumina MiSeq 2x300bp (600 cycles) v3 chemistry</td>\n",
       "      <td>Illumina</td>\n",
       "      <td>MiSeq</td>\n",
       "      <td>2x300bp (600 cycles) v3 chemistry</td>\n",
       "      <td>University of Michigan Advanced Genomics Core</td>\n",
       "      <td>September, 2019</td>\n",
       "    </tr>\n",
       "    <tr>\n",
       "      <th>SC05.50</th>\n",
       "      <td>SC05</td>\n",
       "      <td>Lake Erie sample</td>\n",
       "      <td>Lake Erie sample</td>\n",
       "      <td>paired with SC07, SC06</td>\n",
       "      <td>15</td>\n",
       "      <td>SC05</td>\n",
       "      <td>Field 53-spare</td>\n",
       "      <td>41.703431</td>\n",
       "      <td>-83.070777</td>\n",
       "      <td>158</td>\n",
       "      <td>...</td>\n",
       "      <td>16S rRNA</td>\n",
       "      <td>V4</td>\n",
       "      <td>FWD:GTGYCAGCMGCCGCGGTAA; REV:GGACTACNVGGGTWTCTAAT</td>\n",
       "      <td>FWD:EMP-16S-515F-Parada; REV:EMP-16S-806R-Apprill</td>\n",
       "      <td>Illumina MiSeq 2x300bp (600 cycles) v3 chemistry</td>\n",
       "      <td>Illumina</td>\n",
       "      <td>MiSeq</td>\n",
       "      <td>2x300bp (600 cycles) v3 chemistry</td>\n",
       "      <td>University of Michigan Advanced Genomics Core</td>\n",
       "      <td>September, 2019</td>\n",
       "    </tr>\n",
       "    <tr>\n",
       "      <th>SC06.22</th>\n",
       "      <td>SC06</td>\n",
       "      <td>Lake Erie sample</td>\n",
       "      <td>Lake Erie sample</td>\n",
       "      <td>paired with SC07, SC05</td>\n",
       "      <td>15</td>\n",
       "      <td>SC06</td>\n",
       "      <td>Field 52-spare</td>\n",
       "      <td>41.703430</td>\n",
       "      <td>-83.070775</td>\n",
       "      <td>270</td>\n",
       "      <td>...</td>\n",
       "      <td>16S rRNA</td>\n",
       "      <td>V4</td>\n",
       "      <td>FWD:GTGYCAGCMGCCGCGGTAA; REV:GGACTACNVGGGTWTCTAAT</td>\n",
       "      <td>FWD:EMP-16S-515F-Parada; REV:EMP-16S-806R-Apprill</td>\n",
       "      <td>Illumina MiSeq 2x300bp (600 cycles) v3 chemistry</td>\n",
       "      <td>Illumina</td>\n",
       "      <td>MiSeq</td>\n",
       "      <td>2x300bp (600 cycles) v3 chemistry</td>\n",
       "      <td>University of Michigan Advanced Genomics Core</td>\n",
       "      <td>September, 2019</td>\n",
       "    </tr>\n",
       "  </tbody>\n",
       "</table>\n",
       "<p>3 rows × 53 columns</p>\n",
       "</div>"
      ],
      "text/plain": [
       "            sample_name_water       description    control_status  \\\n",
       "sample_name                                                         \n",
       "SC05.22                  SC05  Lake Erie sample  Lake Erie sample   \n",
       "SC05.50                  SC05  Lake Erie sample  Lake Erie sample   \n",
       "SC06.22                  SC06  Lake Erie sample  Lake Erie sample   \n",
       "\n",
       "                     sample_pairing  sample_pairs esp_storage_carousel  \\\n",
       "sample_name                                                              \n",
       "SC05.22      paired with SC07, SC06            15                 SC05   \n",
       "SC05.50      paired with SC07, SC06            15                 SC05   \n",
       "SC06.22      paired with SC07, SC05            15                 SC06   \n",
       "\n",
       "             sample_station  auv_latitude_deg  auv_longitude_deg  \\\n",
       "sample_name                                                        \n",
       "SC05.22      Field 53-spare         41.703431         -83.070777   \n",
       "SC05.50      Field 53-spare         41.703431         -83.070777   \n",
       "SC06.22      Field 52-spare         41.703430         -83.070775   \n",
       "\n",
       "             archive_bottom  ...  target_gene target_subfragment  \\\n",
       "sample_name                  ...                                   \n",
       "SC05.22                 158  ...     16S rRNA                 V4   \n",
       "SC05.50                 158  ...     16S rRNA                 V4   \n",
       "SC06.22                 270  ...     16S rRNA                 V4   \n",
       "\n",
       "                                                   pcr_primers  \\\n",
       "sample_name                                                      \n",
       "SC05.22      FWD:GTGYCAGCMGCCGCGGTAA; REV:GGACTACNVGGGTWTCTAAT   \n",
       "SC05.50      FWD:GTGYCAGCMGCCGCGGTAA; REV:GGACTACNVGGGTWTCTAAT   \n",
       "SC06.22      FWD:GTGYCAGCMGCCGCGGTAA; REV:GGACTACNVGGGTWTCTAAT   \n",
       "\n",
       "                                              pcr_primer_names  \\\n",
       "sample_name                                                      \n",
       "SC05.22      FWD:EMP-16S-515F-Parada; REV:EMP-16S-806R-Apprill   \n",
       "SC05.50      FWD:EMP-16S-515F-Parada; REV:EMP-16S-806R-Apprill   \n",
       "SC06.22      FWD:EMP-16S-515F-Parada; REV:EMP-16S-806R-Apprill   \n",
       "\n",
       "                                                     seq_meth seq_platform  \\\n",
       "sample_name                                                                  \n",
       "SC05.22      Illumina MiSeq 2x300bp (600 cycles) v3 chemistry     Illumina   \n",
       "SC05.50      Illumina MiSeq 2x300bp (600 cycles) v3 chemistry     Illumina   \n",
       "SC06.22      Illumina MiSeq 2x300bp (600 cycles) v3 chemistry     Illumina   \n",
       "\n",
       "            seq_model                      seq_chemistry  \\\n",
       "sample_name                                                \n",
       "SC05.22         MiSeq  2x300bp (600 cycles) v3 chemistry   \n",
       "SC05.50         MiSeq  2x300bp (600 cycles) v3 chemistry   \n",
       "SC06.22         MiSeq  2x300bp (600 cycles) v3 chemistry   \n",
       "\n",
       "                                                run_center         run_date  \n",
       "sample_name                                                                  \n",
       "SC05.22      University of Michigan Advanced Genomics Core  September, 2019  \n",
       "SC05.50      University of Michigan Advanced Genomics Core  September, 2019  \n",
       "SC06.22      University of Michigan Advanced Genomics Core  September, 2019  \n",
       "\n",
       "[3 rows x 53 columns]"
      ]
     },
     "execution_count": 4,
     "metadata": {},
     "output_type": "execute_result"
    }
   ],
   "source": [
    "df_md = pd.read_csv(inputs['metadata'], sep='\\t', index_col=0)\n",
    "df_md.head(3)"
   ]
  },
  {
   "cell_type": "markdown",
   "metadata": {},
   "source": [
    "### Representative sequences properties"
   ]
  },
  {
   "cell_type": "code",
   "execution_count": 5,
   "metadata": {},
   "outputs": [
    {
     "data": {
      "text/html": [
       "<div>\n",
       "<style scoped>\n",
       "    .dataframe tbody tr th:only-of-type {\n",
       "        vertical-align: middle;\n",
       "    }\n",
       "\n",
       "    .dataframe tbody tr th {\n",
       "        vertical-align: top;\n",
       "    }\n",
       "\n",
       "    .dataframe thead th {\n",
       "        text-align: right;\n",
       "    }\n",
       "</style>\n",
       "<table border=\"1\" class=\"dataframe\">\n",
       "  <thead>\n",
       "    <tr style=\"text-align: right;\">\n",
       "      <th></th>\n",
       "      <th>length</th>\n",
       "      <th>gaps</th>\n",
       "      <th>outlier</th>\n",
       "      <th>taxonomy</th>\n",
       "      <th>observations</th>\n",
       "    </tr>\n",
       "    <tr>\n",
       "      <th>featureid</th>\n",
       "      <th></th>\n",
       "      <th></th>\n",
       "      <th></th>\n",
       "      <th></th>\n",
       "      <th></th>\n",
       "    </tr>\n",
       "  </thead>\n",
       "  <tbody>\n",
       "    <tr>\n",
       "      <th>b744eae1244325f606575483df0de67e</th>\n",
       "      <td>253</td>\n",
       "      <td>173</td>\n",
       "      <td>False</td>\n",
       "      <td>d__Bacteria</td>\n",
       "      <td>966.0</td>\n",
       "    </tr>\n",
       "    <tr>\n",
       "      <th>9cfa52be027c8fa57d197b21dd7a958c</th>\n",
       "      <td>253</td>\n",
       "      <td>173</td>\n",
       "      <td>False</td>\n",
       "      <td>d__Bacteria</td>\n",
       "      <td>568.0</td>\n",
       "    </tr>\n",
       "    <tr>\n",
       "      <th>3f456a18968cea5c5e549e281f0f5808</th>\n",
       "      <td>253</td>\n",
       "      <td>173</td>\n",
       "      <td>False</td>\n",
       "      <td>d__Bacteria</td>\n",
       "      <td>488.0</td>\n",
       "    </tr>\n",
       "    <tr>\n",
       "      <th>251fb9e771085e0267a4f87cf841ce2f</th>\n",
       "      <td>253</td>\n",
       "      <td>173</td>\n",
       "      <td>False</td>\n",
       "      <td>d__Bacteria</td>\n",
       "      <td>340.0</td>\n",
       "    </tr>\n",
       "    <tr>\n",
       "      <th>01514b1eefaab7c2b75c8a9d0f1c85e6</th>\n",
       "      <td>253</td>\n",
       "      <td>173</td>\n",
       "      <td>False</td>\n",
       "      <td>d__Bacteria</td>\n",
       "      <td>302.0</td>\n",
       "    </tr>\n",
       "    <tr>\n",
       "      <th>...</th>\n",
       "      <td>...</td>\n",
       "      <td>...</td>\n",
       "      <td>...</td>\n",
       "      <td>...</td>\n",
       "      <td>...</td>\n",
       "    </tr>\n",
       "    <tr>\n",
       "      <th>8cf25076a0b004572d19f315bbb5acb0</th>\n",
       "      <td>253</td>\n",
       "      <td>175</td>\n",
       "      <td>True</td>\n",
       "      <td>d__Bacteria</td>\n",
       "      <td>2.0</td>\n",
       "    </tr>\n",
       "    <tr>\n",
       "      <th>c661eabf2e8d41d860c090f95a74c337</th>\n",
       "      <td>253</td>\n",
       "      <td>173</td>\n",
       "      <td>False</td>\n",
       "      <td>d__Bacteria</td>\n",
       "      <td>2.0</td>\n",
       "    </tr>\n",
       "    <tr>\n",
       "      <th>f94ca97c836668e666c34504b6edcb5e</th>\n",
       "      <td>253</td>\n",
       "      <td>173</td>\n",
       "      <td>False</td>\n",
       "      <td>d__Bacteria</td>\n",
       "      <td>2.0</td>\n",
       "    </tr>\n",
       "    <tr>\n",
       "      <th>0ae5531a9802e71139c959faebdde10c</th>\n",
       "      <td>253</td>\n",
       "      <td>173</td>\n",
       "      <td>False</td>\n",
       "      <td>d__Bacteria</td>\n",
       "      <td>2.0</td>\n",
       "    </tr>\n",
       "    <tr>\n",
       "      <th>3b7badb7274fad25197a014df653c15e</th>\n",
       "      <td>253</td>\n",
       "      <td>173</td>\n",
       "      <td>False</td>\n",
       "      <td>Unassigned</td>\n",
       "      <td>2.0</td>\n",
       "    </tr>\n",
       "  </tbody>\n",
       "</table>\n",
       "<p>301 rows × 5 columns</p>\n",
       "</div>"
      ],
      "text/plain": [
       "                                  length  gaps  outlier     taxonomy  \\\n",
       "featureid                                                              \n",
       "b744eae1244325f606575483df0de67e     253   173    False  d__Bacteria   \n",
       "9cfa52be027c8fa57d197b21dd7a958c     253   173    False  d__Bacteria   \n",
       "3f456a18968cea5c5e549e281f0f5808     253   173    False  d__Bacteria   \n",
       "251fb9e771085e0267a4f87cf841ce2f     253   173    False  d__Bacteria   \n",
       "01514b1eefaab7c2b75c8a9d0f1c85e6     253   173    False  d__Bacteria   \n",
       "...                                  ...   ...      ...          ...   \n",
       "8cf25076a0b004572d19f315bbb5acb0     253   175     True  d__Bacteria   \n",
       "c661eabf2e8d41d860c090f95a74c337     253   173    False  d__Bacteria   \n",
       "f94ca97c836668e666c34504b6edcb5e     253   173    False  d__Bacteria   \n",
       "0ae5531a9802e71139c959faebdde10c     253   173    False  d__Bacteria   \n",
       "3b7badb7274fad25197a014df653c15e     253   173    False   Unassigned   \n",
       "\n",
       "                                  observations  \n",
       "featureid                                       \n",
       "b744eae1244325f606575483df0de67e         966.0  \n",
       "9cfa52be027c8fa57d197b21dd7a958c         568.0  \n",
       "3f456a18968cea5c5e549e281f0f5808         488.0  \n",
       "251fb9e771085e0267a4f87cf841ce2f         340.0  \n",
       "01514b1eefaab7c2b75c8a9d0f1c85e6         302.0  \n",
       "...                                        ...  \n",
       "8cf25076a0b004572d19f315bbb5acb0           2.0  \n",
       "c661eabf2e8d41d860c090f95a74c337           2.0  \n",
       "f94ca97c836668e666c34504b6edcb5e           2.0  \n",
       "0ae5531a9802e71139c959faebdde10c           2.0  \n",
       "3b7badb7274fad25197a014df653c15e           2.0  \n",
       "\n",
       "[301 rows x 5 columns]"
      ]
     },
     "execution_count": 5,
     "metadata": {},
     "output_type": "execute_result"
    }
   ],
   "source": [
    "repseq_prop = pd.read_csv(inputs['repseq_prop'], sep='\\t', index_col=0)\n",
    "repseq_prop"
   ]
  },
  {
   "cell_type": "markdown",
   "metadata": {},
   "source": [
    "### Taxonomy"
   ]
  },
  {
   "cell_type": "code",
   "execution_count": 6,
   "metadata": {},
   "outputs": [
    {
     "data": {
      "text/html": [
       "<div>\n",
       "<style scoped>\n",
       "    .dataframe tbody tr th:only-of-type {\n",
       "        vertical-align: middle;\n",
       "    }\n",
       "\n",
       "    .dataframe tbody tr th {\n",
       "        vertical-align: top;\n",
       "    }\n",
       "\n",
       "    .dataframe thead th {\n",
       "        text-align: right;\n",
       "    }\n",
       "</style>\n",
       "<table border=\"1\" class=\"dataframe\">\n",
       "  <thead>\n",
       "    <tr style=\"text-align: right;\">\n",
       "      <th></th>\n",
       "      <th>Taxon</th>\n",
       "      <th>Consensus</th>\n",
       "    </tr>\n",
       "    <tr>\n",
       "      <th>Feature ID</th>\n",
       "      <th></th>\n",
       "      <th></th>\n",
       "    </tr>\n",
       "  </thead>\n",
       "  <tbody>\n",
       "    <tr>\n",
       "      <th>b744eae1244325f606575483df0de67e</th>\n",
       "      <td>d__Bacteria; p__Proteobacteria; c__Alphaproteo...</td>\n",
       "      <td>0.7</td>\n",
       "    </tr>\n",
       "    <tr>\n",
       "      <th>9cfa52be027c8fa57d197b21dd7a958c</th>\n",
       "      <td>d__Bacteria; p__Actinobacteriota; c__Actinobac...</td>\n",
       "      <td>0.6</td>\n",
       "    </tr>\n",
       "    <tr>\n",
       "      <th>3f456a18968cea5c5e549e281f0f5808</th>\n",
       "      <td>d__Bacteria; p__Actinobacteriota; c__Actinobac...</td>\n",
       "      <td>0.9</td>\n",
       "    </tr>\n",
       "    <tr>\n",
       "      <th>251fb9e771085e0267a4f87cf841ce2f</th>\n",
       "      <td>d__Bacteria; p__Cyanobacteria; c__Cyanobacteri...</td>\n",
       "      <td>1.0</td>\n",
       "    </tr>\n",
       "    <tr>\n",
       "      <th>01514b1eefaab7c2b75c8a9d0f1c85e6</th>\n",
       "      <td>d__Bacteria; p__Cyanobacteria; c__Cyanobacteri...</td>\n",
       "      <td>1.0</td>\n",
       "    </tr>\n",
       "    <tr>\n",
       "      <th>...</th>\n",
       "      <td>...</td>\n",
       "      <td>...</td>\n",
       "    </tr>\n",
       "    <tr>\n",
       "      <th>b9f7087d9e362d1b1274775a69943f88</th>\n",
       "      <td>Unassigned</td>\n",
       "      <td>0.0</td>\n",
       "    </tr>\n",
       "    <tr>\n",
       "      <th>cc351352391279e1b2b046bc51f454d6</th>\n",
       "      <td>Unassigned</td>\n",
       "      <td>0.0</td>\n",
       "    </tr>\n",
       "    <tr>\n",
       "      <th>e4aa39efaf6dd184a06332b2de72d3d4</th>\n",
       "      <td>Unassigned</td>\n",
       "      <td>0.0</td>\n",
       "    </tr>\n",
       "    <tr>\n",
       "      <th>8cf25076a0b004572d19f315bbb5acb0</th>\n",
       "      <td>Unassigned</td>\n",
       "      <td>0.0</td>\n",
       "    </tr>\n",
       "    <tr>\n",
       "      <th>264dab11766c188cdbdb62a233fa738f</th>\n",
       "      <td>Unassigned</td>\n",
       "      <td>0.0</td>\n",
       "    </tr>\n",
       "  </tbody>\n",
       "</table>\n",
       "<p>301 rows × 2 columns</p>\n",
       "</div>"
      ],
      "text/plain": [
       "                                                                              Taxon  \\\n",
       "Feature ID                                                                            \n",
       "b744eae1244325f606575483df0de67e  d__Bacteria; p__Proteobacteria; c__Alphaproteo...   \n",
       "9cfa52be027c8fa57d197b21dd7a958c  d__Bacteria; p__Actinobacteriota; c__Actinobac...   \n",
       "3f456a18968cea5c5e549e281f0f5808  d__Bacteria; p__Actinobacteriota; c__Actinobac...   \n",
       "251fb9e771085e0267a4f87cf841ce2f  d__Bacteria; p__Cyanobacteria; c__Cyanobacteri...   \n",
       "01514b1eefaab7c2b75c8a9d0f1c85e6  d__Bacteria; p__Cyanobacteria; c__Cyanobacteri...   \n",
       "...                                                                             ...   \n",
       "b9f7087d9e362d1b1274775a69943f88                                         Unassigned   \n",
       "cc351352391279e1b2b046bc51f454d6                                         Unassigned   \n",
       "e4aa39efaf6dd184a06332b2de72d3d4                                         Unassigned   \n",
       "8cf25076a0b004572d19f315bbb5acb0                                         Unassigned   \n",
       "264dab11766c188cdbdb62a233fa738f                                         Unassigned   \n",
       "\n",
       "                                 Consensus  \n",
       "Feature ID                                  \n",
       "b744eae1244325f606575483df0de67e       0.7  \n",
       "9cfa52be027c8fa57d197b21dd7a958c       0.6  \n",
       "3f456a18968cea5c5e549e281f0f5808       0.9  \n",
       "251fb9e771085e0267a4f87cf841ce2f       1.0  \n",
       "01514b1eefaab7c2b75c8a9d0f1c85e6       1.0  \n",
       "...                                    ...  \n",
       "b9f7087d9e362d1b1274775a69943f88       0.0  \n",
       "cc351352391279e1b2b046bc51f454d6       0.0  \n",
       "e4aa39efaf6dd184a06332b2de72d3d4       0.0  \n",
       "8cf25076a0b004572d19f315bbb5acb0       0.0  \n",
       "264dab11766c188cdbdb62a233fa738f       0.0  \n",
       "\n",
       "[301 rows x 2 columns]"
      ]
     },
     "execution_count": 6,
     "metadata": {},
     "output_type": "execute_result"
    }
   ],
   "source": [
    "taxonomy = Artifact.load(inputs['taxonomy'])\n",
    "df_tax = taxonomy.view(view_type=pd.DataFrame)\n",
    "df_tax"
   ]
  },
  {
   "cell_type": "markdown",
   "metadata": {},
   "source": [
    "### Feature table"
   ]
  },
  {
   "cell_type": "code",
   "execution_count": 7,
   "metadata": {},
   "outputs": [
    {
     "data": {
      "text/html": [
       "<div>\n",
       "<style scoped>\n",
       "    .dataframe tbody tr th:only-of-type {\n",
       "        vertical-align: middle;\n",
       "    }\n",
       "\n",
       "    .dataframe tbody tr th {\n",
       "        vertical-align: top;\n",
       "    }\n",
       "\n",
       "    .dataframe thead th {\n",
       "        text-align: right;\n",
       "    }\n",
       "</style>\n",
       "<table border=\"1\" class=\"dataframe\">\n",
       "  <thead>\n",
       "    <tr style=\"text-align: right;\">\n",
       "      <th></th>\n",
       "      <th>Taxon</th>\n",
       "      <th>Consensus</th>\n",
       "    </tr>\n",
       "    <tr>\n",
       "      <th>Feature ID</th>\n",
       "      <th></th>\n",
       "      <th></th>\n",
       "    </tr>\n",
       "  </thead>\n",
       "  <tbody>\n",
       "    <tr>\n",
       "      <th>b744eae1244325f606575483df0de67e</th>\n",
       "      <td>d__Bacteria; p__Proteobacteria; c__Alphaproteo...</td>\n",
       "      <td>0.7</td>\n",
       "    </tr>\n",
       "    <tr>\n",
       "      <th>9cfa52be027c8fa57d197b21dd7a958c</th>\n",
       "      <td>d__Bacteria; p__Actinobacteriota; c__Actinobac...</td>\n",
       "      <td>0.6</td>\n",
       "    </tr>\n",
       "    <tr>\n",
       "      <th>3f456a18968cea5c5e549e281f0f5808</th>\n",
       "      <td>d__Bacteria; p__Actinobacteriota; c__Actinobac...</td>\n",
       "      <td>0.9</td>\n",
       "    </tr>\n",
       "    <tr>\n",
       "      <th>251fb9e771085e0267a4f87cf841ce2f</th>\n",
       "      <td>d__Bacteria; p__Cyanobacteria; c__Cyanobacteri...</td>\n",
       "      <td>1.0</td>\n",
       "    </tr>\n",
       "    <tr>\n",
       "      <th>01514b1eefaab7c2b75c8a9d0f1c85e6</th>\n",
       "      <td>d__Bacteria; p__Cyanobacteria; c__Cyanobacteri...</td>\n",
       "      <td>1.0</td>\n",
       "    </tr>\n",
       "    <tr>\n",
       "      <th>...</th>\n",
       "      <td>...</td>\n",
       "      <td>...</td>\n",
       "    </tr>\n",
       "    <tr>\n",
       "      <th>b9f7087d9e362d1b1274775a69943f88</th>\n",
       "      <td>Unassigned</td>\n",
       "      <td>0.0</td>\n",
       "    </tr>\n",
       "    <tr>\n",
       "      <th>cc351352391279e1b2b046bc51f454d6</th>\n",
       "      <td>Unassigned</td>\n",
       "      <td>0.0</td>\n",
       "    </tr>\n",
       "    <tr>\n",
       "      <th>e4aa39efaf6dd184a06332b2de72d3d4</th>\n",
       "      <td>Unassigned</td>\n",
       "      <td>0.0</td>\n",
       "    </tr>\n",
       "    <tr>\n",
       "      <th>8cf25076a0b004572d19f315bbb5acb0</th>\n",
       "      <td>Unassigned</td>\n",
       "      <td>0.0</td>\n",
       "    </tr>\n",
       "    <tr>\n",
       "      <th>264dab11766c188cdbdb62a233fa738f</th>\n",
       "      <td>Unassigned</td>\n",
       "      <td>0.0</td>\n",
       "    </tr>\n",
       "  </tbody>\n",
       "</table>\n",
       "<p>301 rows × 2 columns</p>\n",
       "</div>"
      ],
      "text/plain": [
       "                                                                              Taxon  \\\n",
       "Feature ID                                                                            \n",
       "b744eae1244325f606575483df0de67e  d__Bacteria; p__Proteobacteria; c__Alphaproteo...   \n",
       "9cfa52be027c8fa57d197b21dd7a958c  d__Bacteria; p__Actinobacteriota; c__Actinobac...   \n",
       "3f456a18968cea5c5e549e281f0f5808  d__Bacteria; p__Actinobacteriota; c__Actinobac...   \n",
       "251fb9e771085e0267a4f87cf841ce2f  d__Bacteria; p__Cyanobacteria; c__Cyanobacteri...   \n",
       "01514b1eefaab7c2b75c8a9d0f1c85e6  d__Bacteria; p__Cyanobacteria; c__Cyanobacteri...   \n",
       "...                                                                             ...   \n",
       "b9f7087d9e362d1b1274775a69943f88                                         Unassigned   \n",
       "cc351352391279e1b2b046bc51f454d6                                         Unassigned   \n",
       "e4aa39efaf6dd184a06332b2de72d3d4                                         Unassigned   \n",
       "8cf25076a0b004572d19f315bbb5acb0                                         Unassigned   \n",
       "264dab11766c188cdbdb62a233fa738f                                         Unassigned   \n",
       "\n",
       "                                 Consensus  \n",
       "Feature ID                                  \n",
       "b744eae1244325f606575483df0de67e       0.7  \n",
       "9cfa52be027c8fa57d197b21dd7a958c       0.6  \n",
       "3f456a18968cea5c5e549e281f0f5808       0.9  \n",
       "251fb9e771085e0267a4f87cf841ce2f       1.0  \n",
       "01514b1eefaab7c2b75c8a9d0f1c85e6       1.0  \n",
       "...                                    ...  \n",
       "b9f7087d9e362d1b1274775a69943f88       0.0  \n",
       "cc351352391279e1b2b046bc51f454d6       0.0  \n",
       "e4aa39efaf6dd184a06332b2de72d3d4       0.0  \n",
       "8cf25076a0b004572d19f315bbb5acb0       0.0  \n",
       "264dab11766c188cdbdb62a233fa738f       0.0  \n",
       "\n",
       "[301 rows x 2 columns]"
      ]
     },
     "execution_count": 7,
     "metadata": {},
     "output_type": "execute_result"
    }
   ],
   "source": [
    "table = Artifact.load(inputs['table'])\n",
    "df_table = taxonomy.view(view_type=pd.DataFrame)\n",
    "df_table"
   ]
  },
  {
   "cell_type": "markdown",
   "metadata": {},
   "source": [
    "## Create static plots"
   ]
  },
  {
   "cell_type": "markdown",
   "metadata": {},
   "source": [
    "### Representative sequences: histogram of sequence length"
   ]
  },
  {
   "cell_type": "code",
   "execution_count": 8,
   "metadata": {
    "scrolled": false
   },
   "outputs": [
    {
     "name": "stderr",
     "output_type": "stream",
     "text": [
      "/Users/luke.thompson/miniconda3/envs/qiime2-2020.8/lib/python3.6/site-packages/seaborn/distributions.py:369: UserWarning: Default bandwidth for data is 0; skipping density estimation.\n",
      "  warnings.warn(msg, UserWarning)\n"
     ]
    },
    {
     "data": {
      "text/plain": [
       "<matplotlib.axes._subplots.AxesSubplot at 0x7fa209378080>"
      ]
     },
     "execution_count": 8,
     "metadata": {},
     "output_type": "execute_result"
    },
    {
     "data": {
      "image/png": "[encoded data removed]",
      "text/plain": [
       "<Figure size 432x288 with 1 Axes>"
      ]
     },
     "metadata": {
      "needs_background": "light"
     },
     "output_type": "display_data"
    }
   ],
   "source": [
    "sns.distplot(repseq_prop['length'])"
   ]
  },
  {
   "cell_type": "markdown",
   "metadata": {},
   "source": [
    "### Representative sequences: scatterplot of gaps vs length, color by taxonomy, size by observations, shape by outlier"
   ]
  },
  {
   "cell_type": "code",
   "execution_count": 9,
   "metadata": {
    "scrolled": true
   },
   "outputs": [
    {
     "data": {
      "image/png": "[encoded data removed]",
      "text/plain": [
       "<Figure size 432x288 with 1 Axes>"
      ]
     },
     "metadata": {
      "needs_background": "light"
     },
     "output_type": "display_data"
    }
   ],
   "source": [
    "fig, ax = plt.subplots()\n",
    "sns.scatterplot(ax=ax, data=repseq_prop, x='length', y='gaps', style='outlier', hue='taxonomy', size='observations', \n",
    "                sizes=(10,200), edgecolor=None)\n",
    "ax.legend(bbox_to_anchor=(1.35, 1.0));"
   ]
  },
  {
   "cell_type": "markdown",
   "metadata": {},
   "source": [
    "### Alpha-diversity boxplots"
   ]
  },
  {
   "cell_type": "code",
   "execution_count": 10,
   "metadata": {},
   "outputs": [
    {
     "data": {
      "text/plain": [
       "<matplotlib.axes._subplots.AxesSubplot at 0x7fa178b7d208>"
      ]
     },
     "execution_count": 10,
     "metadata": {},
     "output_type": "execute_result"
    },
    {
     "data": {
      "image/png": "[encoded data removed]",
      "text/plain": [
       "<Figure size 432x288 with 1 Axes>"
      ]
     },
     "metadata": {
      "needs_background": "light"
     },
     "output_type": "display_data"
    }
   ],
   "source": [
    "adiv_vector = Artifact.load(inputs['adiv_vector'])\n",
    "df_adiv = adiv_vector.view(pd.Series)\n",
    "df_adiv_md = pd.merge(df_md, df_adiv, left_index=True, right_index=True)\n",
    "sns.boxplot(data=df_adiv_md, y=adiv_metric, x=factor1, hue=factor2)"
   ]
  },
  {
   "cell_type": "markdown",
   "metadata": {},
   "source": [
    "## Display interactive visualizations"
   ]
  },
  {
   "cell_type": "markdown",
   "metadata": {},
   "source": [
    "### Feature table"
   ]
  },
  {
   "cell_type": "code",
   "execution_count": 11,
   "metadata": {},
   "outputs": [
    {
     "data": {
      "text/html": [
       "<div><img onload=\"(function(div, url){\n",
       "if (typeof require !== 'undefined') {\n",
       "    var baseURL = require.toUrl('').split('/').slice(0, -2).join('/');\n",
       "} else {\n",
       "    var baseURL = JSON.parse(\n",
       "        document.getElementById('jupyter-config-data').innerHTML\n",
       "    ).baseUrl.slice(0, -1);\n",
       "}\n",
       "url = baseURL + url;\n",
       "fetch(url).then(function(res) {\n",
       "    if (res.status === 404) {\n",
       "        div.innerHTML = 'Install QIIME 2 Jupyter extension with:<br />' +\n",
       "                        '<code>jupyter serverextension enable --py qiime2' +\n",
       "                        ' --sys-prefix</code><br />then restart your server.' +\n",
       "                        '<br /><br />(Interactive output not available on ' +\n",
       "                        'static notebook viewer services like nbviewer.)';\n",
       "    } else if (res.status === 409) {\n",
       "        div.innerHTML = 'Visualization no longer in scope. Re-run this cell' +\n",
       "                        ' to see the visualization.';\n",
       "    } else if (res.ok) {\n",
       "        url = res.url;\n",
       "        div.innerHTML = '<iframe src=\\'' + url + '\\' style=\\'' +\n",
       "                        'width: 100%; height: 700px; border: 0;\\'>' +\n",
       "                        '</iframe><hr />Open in a: <a href=\\'' + url + '\\'' +\n",
       "                        ' target=\\'_blank\\'>new window</a>'\n",
       "    } else {\n",
       "        div.innerHTML = 'Something has gone wrong. Check notebook server for' +\n",
       "                        ' errors.';\n",
       "    }\n",
       "});\n",
       "})(this.parentElement, '/qiime2/redirect?location=/var/folders/wj/qzt41m9x3qn46mv3fc0fn14dk6zz8h/T/qiime2-archive-x5lnxkc5')\" src=\"data:image/gif;base64,R0lGODlhAQABAIAAAP///wAAACH5BAEAAAAALAAAAAABAAEAAAICRAEAOw==\" /></div>"
      ],
      "text/plain": [
       "<visualization: Visualization uuid: 9f39cd4a-b848-4691-947d-1513733b59ad>"
      ]
     },
     "execution_count": 11,
     "metadata": {},
     "output_type": "execute_result"
    }
   ],
   "source": [
    "Visualization.load(inputs['table_viz'])"
   ]
  },
  {
   "cell_type": "markdown",
   "metadata": {},
   "source": [
    "### Representative sequences"
   ]
  },
  {
   "cell_type": "code",
   "execution_count": 12,
   "metadata": {},
   "outputs": [
    {
     "data": {
      "text/html": [
       "<div><img onload=\"(function(div, url){\n",
       "if (typeof require !== 'undefined') {\n",
       "    var baseURL = require.toUrl('').split('/').slice(0, -2).join('/');\n",
       "} else {\n",
       "    var baseURL = JSON.parse(\n",
       "        document.getElementById('jupyter-config-data').innerHTML\n",
       "    ).baseUrl.slice(0, -1);\n",
       "}\n",
       "url = baseURL + url;\n",
       "fetch(url).then(function(res) {\n",
       "    if (res.status === 404) {\n",
       "        div.innerHTML = 'Install QIIME 2 Jupyter extension with:<br />' +\n",
       "                        '<code>jupyter serverextension enable --py qiime2' +\n",
       "                        ' --sys-prefix</code><br />then restart your server.' +\n",
       "                        '<br /><br />(Interactive output not available on ' +\n",
       "                        'static notebook viewer services like nbviewer.)';\n",
       "    } else if (res.status === 409) {\n",
       "        div.innerHTML = 'Visualization no longer in scope. Re-run this cell' +\n",
       "                        ' to see the visualization.';\n",
       "    } else if (res.ok) {\n",
       "        url = res.url;\n",
       "        div.innerHTML = '<iframe src=\\'' + url + '\\' style=\\'' +\n",
       "                        'width: 100%; height: 700px; border: 0;\\'>' +\n",
       "                        '</iframe><hr />Open in a: <a href=\\'' + url + '\\'' +\n",
       "                        ' target=\\'_blank\\'>new window</a>'\n",
       "    } else {\n",
       "        div.innerHTML = 'Something has gone wrong. Check notebook server for' +\n",
       "                        ' errors.';\n",
       "    }\n",
       "});\n",
       "})(this.parentElement, '/qiime2/redirect?location=/var/folders/wj/qzt41m9x3qn46mv3fc0fn14dk6zz8h/T/qiime2-archive-wbmu9dcs')\" src=\"data:image/gif;base64,R0lGODlhAQABAIAAAP///wAAACH5BAEAAAAALAAAAAABAAEAAAICRAEAOw==\" /></div>"
      ],
      "text/plain": [
       "<visualization: Visualization uuid: cf82b975-40b2-4987-ae3c-20e862b4e14d>"
      ]
     },
     "execution_count": 12,
     "metadata": {},
     "output_type": "execute_result"
    }
   ],
   "source": [
    "Visualization.load(inputs['repseqs_viz'])"
   ]
  },
  {
   "cell_type": "markdown",
   "metadata": {},
   "source": [
    "### Rooted tree"
   ]
  },
  {
   "cell_type": "code",
   "execution_count": 13,
   "metadata": {},
   "outputs": [
    {
     "data": {
      "text/html": [
       "<div><img onload=\"(function(div, url){\n",
       "if (typeof require !== 'undefined') {\n",
       "    var baseURL = require.toUrl('').split('/').slice(0, -2).join('/');\n",
       "} else {\n",
       "    var baseURL = JSON.parse(\n",
       "        document.getElementById('jupyter-config-data').innerHTML\n",
       "    ).baseUrl.slice(0, -1);\n",
       "}\n",
       "url = baseURL + url;\n",
       "fetch(url).then(function(res) {\n",
       "    if (res.status === 404) {\n",
       "        div.innerHTML = 'Install QIIME 2 Jupyter extension with:<br />' +\n",
       "                        '<code>jupyter serverextension enable --py qiime2' +\n",
       "                        ' --sys-prefix</code><br />then restart your server.' +\n",
       "                        '<br /><br />(Interactive output not available on ' +\n",
       "                        'static notebook viewer services like nbviewer.)';\n",
       "    } else if (res.status === 409) {\n",
       "        div.innerHTML = 'Visualization no longer in scope. Re-run this cell' +\n",
       "                        ' to see the visualization.';\n",
       "    } else if (res.ok) {\n",
       "        url = res.url;\n",
       "        div.innerHTML = '<iframe src=\\'' + url + '\\' style=\\'' +\n",
       "                        'width: 100%; height: 700px; border: 0;\\'>' +\n",
       "                        '</iframe><hr />Open in a: <a href=\\'' + url + '\\'' +\n",
       "                        ' target=\\'_blank\\'>new window</a>'\n",
       "    } else {\n",
       "        div.innerHTML = 'Something has gone wrong. Check notebook server for' +\n",
       "                        ' errors.';\n",
       "    }\n",
       "});\n",
       "})(this.parentElement, '/qiime2/redirect?location=/var/folders/wj/qzt41m9x3qn46mv3fc0fn14dk6zz8h/T/qiime2-archive-5cwvrj4w')\" src=\"data:image/gif;base64,R0lGODlhAQABAIAAAP///wAAACH5BAEAAAAALAAAAAABAAEAAAICRAEAOw==\" /></div>"
      ],
      "text/plain": [
       "<visualization: Visualization uuid: b756f776-1234-4d07-be9e-e2ffc7424113>"
      ]
     },
     "execution_count": 13,
     "metadata": {},
     "output_type": "execute_result"
    }
   ],
   "source": [
    "Visualization.load(inputs['rooted_tree'])"
   ]
  },
  {
   "cell_type": "markdown",
   "metadata": {},
   "source": [
    "### Taxonomy"
   ]
  },
  {
   "cell_type": "code",
   "execution_count": 14,
   "metadata": {},
   "outputs": [
    {
     "data": {
      "text/html": [
       "<div><img onload=\"(function(div, url){\n",
       "if (typeof require !== 'undefined') {\n",
       "    var baseURL = require.toUrl('').split('/').slice(0, -2).join('/');\n",
       "} else {\n",
       "    var baseURL = JSON.parse(\n",
       "        document.getElementById('jupyter-config-data').innerHTML\n",
       "    ).baseUrl.slice(0, -1);\n",
       "}\n",
       "url = baseURL + url;\n",
       "fetch(url).then(function(res) {\n",
       "    if (res.status === 404) {\n",
       "        div.innerHTML = 'Install QIIME 2 Jupyter extension with:<br />' +\n",
       "                        '<code>jupyter serverextension enable --py qiime2' +\n",
       "                        ' --sys-prefix</code><br />then restart your server.' +\n",
       "                        '<br /><br />(Interactive output not available on ' +\n",
       "                        'static notebook viewer services like nbviewer.)';\n",
       "    } else if (res.status === 409) {\n",
       "        div.innerHTML = 'Visualization no longer in scope. Re-run this cell' +\n",
       "                        ' to see the visualization.';\n",
       "    } else if (res.ok) {\n",
       "        url = res.url;\n",
       "        div.innerHTML = '<iframe src=\\'' + url + '\\' style=\\'' +\n",
       "                        'width: 100%; height: 700px; border: 0;\\'>' +\n",
       "                        '</iframe><hr />Open in a: <a href=\\'' + url + '\\'' +\n",
       "                        ' target=\\'_blank\\'>new window</a>'\n",
       "    } else {\n",
       "        div.innerHTML = 'Something has gone wrong. Check notebook server for' +\n",
       "                        ' errors.';\n",
       "    }\n",
       "});\n",
       "})(this.parentElement, '/qiime2/redirect?location=/var/folders/wj/qzt41m9x3qn46mv3fc0fn14dk6zz8h/T/qiime2-archive-shfq5prw')\" src=\"data:image/gif;base64,R0lGODlhAQABAIAAAP///wAAACH5BAEAAAAALAAAAAABAAEAAAICRAEAOw==\" /></div>"
      ],
      "text/plain": [
       "<visualization: Visualization uuid: a9a17a91-88f0-449f-acd9-7fc89e7444bc>"
      ]
     },
     "execution_count": 14,
     "metadata": {},
     "output_type": "execute_result"
    }
   ],
   "source": [
    "Visualization.load(inputs['taxonomy_viz'])"
   ]
  },
  {
   "cell_type": "markdown",
   "metadata": {},
   "source": [
    "### Taxonomy barplot"
   ]
  },
  {
   "cell_type": "code",
   "execution_count": 15,
   "metadata": {},
   "outputs": [
    {
     "data": {
      "text/html": [
       "<div><img onload=\"(function(div, url){\n",
       "if (typeof require !== 'undefined') {\n",
       "    var baseURL = require.toUrl('').split('/').slice(0, -2).join('/');\n",
       "} else {\n",
       "    var baseURL = JSON.parse(\n",
       "        document.getElementById('jupyter-config-data').innerHTML\n",
       "    ).baseUrl.slice(0, -1);\n",
       "}\n",
       "url = baseURL + url;\n",
       "fetch(url).then(function(res) {\n",
       "    if (res.status === 404) {\n",
       "        div.innerHTML = 'Install QIIME 2 Jupyter extension with:<br />' +\n",
       "                        '<code>jupyter serverextension enable --py qiime2' +\n",
       "                        ' --sys-prefix</code><br />then restart your server.' +\n",
       "                        '<br /><br />(Interactive output not available on ' +\n",
       "                        'static notebook viewer services like nbviewer.)';\n",
       "    } else if (res.status === 409) {\n",
       "        div.innerHTML = 'Visualization no longer in scope. Re-run this cell' +\n",
       "                        ' to see the visualization.';\n",
       "    } else if (res.ok) {\n",
       "        url = res.url;\n",
       "        div.innerHTML = '<iframe src=\\'' + url + '\\' style=\\'' +\n",
       "                        'width: 100%; height: 700px; border: 0;\\'>' +\n",
       "                        '</iframe><hr />Open in a: <a href=\\'' + url + '\\'' +\n",
       "                        ' target=\\'_blank\\'>new window</a>'\n",
       "    } else {\n",
       "        div.innerHTML = 'Something has gone wrong. Check notebook server for' +\n",
       "                        ' errors.';\n",
       "    }\n",
       "});\n",
       "})(this.parentElement, '/qiime2/redirect?location=/var/folders/wj/qzt41m9x3qn46mv3fc0fn14dk6zz8h/T/qiime2-archive-6zvvq3yo')\" src=\"data:image/gif;base64,R0lGODlhAQABAIAAAP///wAAACH5BAEAAAAALAAAAAABAAEAAAICRAEAOw==\" /></div>"
      ],
      "text/plain": [
       "<visualization: Visualization uuid: 02a3cda2-34be-4cc3-90c8-64eeeeb48aaf>"
      ]
     },
     "execution_count": 15,
     "metadata": {},
     "output_type": "execute_result"
    }
   ],
   "source": [
    "Visualization.load(inputs['taxa_bar'])"
   ]
  },
  {
   "cell_type": "markdown",
   "metadata": {},
   "source": [
    "### Alpha-diversity group significance"
   ]
  },
  {
   "cell_type": "code",
   "execution_count": 16,
   "metadata": {},
   "outputs": [
    {
     "data": {
      "text/html": [
       "<div><img onload=\"(function(div, url){\n",
       "if (typeof require !== 'undefined') {\n",
       "    var baseURL = require.toUrl('').split('/').slice(0, -2).join('/');\n",
       "} else {\n",
       "    var baseURL = JSON.parse(\n",
       "        document.getElementById('jupyter-config-data').innerHTML\n",
       "    ).baseUrl.slice(0, -1);\n",
       "}\n",
       "url = baseURL + url;\n",
       "fetch(url).then(function(res) {\n",
       "    if (res.status === 404) {\n",
       "        div.innerHTML = 'Install QIIME 2 Jupyter extension with:<br />' +\n",
       "                        '<code>jupyter serverextension enable --py qiime2' +\n",
       "                        ' --sys-prefix</code><br />then restart your server.' +\n",
       "                        '<br /><br />(Interactive output not available on ' +\n",
       "                        'static notebook viewer services like nbviewer.)';\n",
       "    } else if (res.status === 409) {\n",
       "        div.innerHTML = 'Visualization no longer in scope. Re-run this cell' +\n",
       "                        ' to see the visualization.';\n",
       "    } else if (res.ok) {\n",
       "        url = res.url;\n",
       "        div.innerHTML = '<iframe src=\\'' + url + '\\' style=\\'' +\n",
       "                        'width: 100%; height: 700px; border: 0;\\'>' +\n",
       "                        '</iframe><hr />Open in a: <a href=\\'' + url + '\\'' +\n",
       "                        ' target=\\'_blank\\'>new window</a>'\n",
       "    } else {\n",
       "        div.innerHTML = 'Something has gone wrong. Check notebook server for' +\n",
       "                        ' errors.';\n",
       "    }\n",
       "});\n",
       "})(this.parentElement, '/qiime2/redirect?location=/var/folders/wj/qzt41m9x3qn46mv3fc0fn14dk6zz8h/T/qiime2-archive-r7q_ktcf')\" src=\"data:image/gif;base64,R0lGODlhAQABAIAAAP///wAAACH5BAEAAAAALAAAAAABAAEAAAICRAEAOw==\" /></div>"
      ],
      "text/plain": [
       "<visualization: Visualization uuid: 4b3cfabe-1433-4852-ac2a-767d5793b2a0>"
      ]
     },
     "execution_count": 16,
     "metadata": {},
     "output_type": "execute_result"
    }
   ],
   "source": [
    "Visualization.load(inputs['adiv_grpsig'])"
   ]
  },
  {
   "cell_type": "markdown",
   "metadata": {},
   "source": [
    "### Beta-diversity PCoA Emperor plot"
   ]
  },
  {
   "cell_type": "code",
   "execution_count": 17,
   "metadata": {},
   "outputs": [
    {
     "data": {
      "text/html": [
       "<div><img onload=\"(function(div, url){\n",
       "if (typeof require !== 'undefined') {\n",
       "    var baseURL = require.toUrl('').split('/').slice(0, -2).join('/');\n",
       "} else {\n",
       "    var baseURL = JSON.parse(\n",
       "        document.getElementById('jupyter-config-data').innerHTML\n",
       "    ).baseUrl.slice(0, -1);\n",
       "}\n",
       "url = baseURL + url;\n",
       "fetch(url).then(function(res) {\n",
       "    if (res.status === 404) {\n",
       "        div.innerHTML = 'Install QIIME 2 Jupyter extension with:<br />' +\n",
       "                        '<code>jupyter serverextension enable --py qiime2' +\n",
       "                        ' --sys-prefix</code><br />then restart your server.' +\n",
       "                        '<br /><br />(Interactive output not available on ' +\n",
       "                        'static notebook viewer services like nbviewer.)';\n",
       "    } else if (res.status === 409) {\n",
       "        div.innerHTML = 'Visualization no longer in scope. Re-run this cell' +\n",
       "                        ' to see the visualization.';\n",
       "    } else if (res.ok) {\n",
       "        url = res.url;\n",
       "        div.innerHTML = '<iframe src=\\'' + url + '\\' style=\\'' +\n",
       "                        'width: 100%; height: 700px; border: 0;\\'>' +\n",
       "                        '</iframe><hr />Open in a: <a href=\\'' + url + '\\'' +\n",
       "                        ' target=\\'_blank\\'>new window</a>'\n",
       "    } else {\n",
       "        div.innerHTML = 'Something has gone wrong. Check notebook server for' +\n",
       "                        ' errors.';\n",
       "    }\n",
       "});\n",
       "})(this.parentElement, '/qiime2/redirect?location=/var/folders/wj/qzt41m9x3qn46mv3fc0fn14dk6zz8h/T/qiime2-archive-x6s4n6p4')\" src=\"data:image/gif;base64,R0lGODlhAQABAIAAAP///wAAACH5BAEAAAAALAAAAAABAAEAAAICRAEAOw==\" /></div>"
      ],
      "text/plain": [
       "<visualization: Visualization uuid: f4ded32d-2708-4fa1-9160-246e57b4b588>"
      ]
     },
     "execution_count": 17,
     "metadata": {},
     "output_type": "execute_result"
    }
   ],
   "source": [
    "Visualization.load(inputs['bdiv_emperor'])"
   ]
  },
  {
   "cell_type": "markdown",
   "metadata": {},
   "source": [
    "### Beta-diversity group significance"
   ]
  },
  {
   "cell_type": "code",
   "execution_count": 18,
   "metadata": {
    "scrolled": true
   },
   "outputs": [
    {
     "data": {
      "text/html": [
       "<div><img onload=\"(function(div, url){\n",
       "if (typeof require !== 'undefined') {\n",
       "    var baseURL = require.toUrl('').split('/').slice(0, -2).join('/');\n",
       "} else {\n",
       "    var baseURL = JSON.parse(\n",
       "        document.getElementById('jupyter-config-data').innerHTML\n",
       "    ).baseUrl.slice(0, -1);\n",
       "}\n",
       "url = baseURL + url;\n",
       "fetch(url).then(function(res) {\n",
       "    if (res.status === 404) {\n",
       "        div.innerHTML = 'Install QIIME 2 Jupyter extension with:<br />' +\n",
       "                        '<code>jupyter serverextension enable --py qiime2' +\n",
       "                        ' --sys-prefix</code><br />then restart your server.' +\n",
       "                        '<br /><br />(Interactive output not available on ' +\n",
       "                        'static notebook viewer services like nbviewer.)';\n",
       "    } else if (res.status === 409) {\n",
       "        div.innerHTML = 'Visualization no longer in scope. Re-run this cell' +\n",
       "                        ' to see the visualization.';\n",
       "    } else if (res.ok) {\n",
       "        url = res.url;\n",
       "        div.innerHTML = '<iframe src=\\'' + url + '\\' style=\\'' +\n",
       "                        'width: 100%; height: 700px; border: 0;\\'>' +\n",
       "                        '</iframe><hr />Open in a: <a href=\\'' + url + '\\'' +\n",
       "                        ' target=\\'_blank\\'>new window</a>'\n",
       "    } else {\n",
       "        div.innerHTML = 'Something has gone wrong. Check notebook server for' +\n",
       "                        ' errors.';\n",
       "    }\n",
       "});\n",
       "})(this.parentElement, '/qiime2/redirect?location=/var/folders/wj/qzt41m9x3qn46mv3fc0fn14dk6zz8h/T/qiime2-archive-2a7rvv3c')\" src=\"data:image/gif;base64,R0lGODlhAQABAIAAAP///wAAACH5BAEAAAAALAAAAAABAAEAAAICRAEAOw==\" /></div>"
      ],
      "text/plain": [
       "<visualization: Visualization uuid: 68439a68-ca49-4627-9a83-8fc34cd9381e>"
      ]
     },
     "execution_count": 18,
     "metadata": {},
     "output_type": "execute_result"
    }
   ],
   "source": [
    "Visualization.load(inputs['bdiv_grpsig'])"
   ]
  },
  {
   "cell_type": "code",
   "execution_count": null,
   "metadata": {},
   "outputs": [],
   "source": []
  }
 ],
 "metadata": {
  "kernelspec": {
   "display_name": "Python 3",
   "language": "python",
   "name": "python3"
  },
  "language_info": {
   "codemirror_mode": {
    "name": "ipython",
    "version": 3
   },
   "file_extension": ".py",
   "mimetype": "text/x-python",
   "name": "python",
   "nbconvert_exporter": "python",
   "pygments_lexer": "ipython3",
   "version": "3.7.8"
  }
 },
 "nbformat": 4,
 "nbformat_minor": 4
}
